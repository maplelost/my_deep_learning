{
 "cells": [
  {
   "cell_type": "code",
   "execution_count": 40,
   "id": "5314771b-61ba-4b7c-820f-1659ff90ce72",
   "metadata": {},
   "outputs": [],
   "source": [
    "%matplotlib inline\n",
    "import numpy as np\n",
    "import pandas as pd\n",
    "import torch\n",
    "import os\n",
    "from torch import nn\n",
    "from d2l import torch as d2l\n",
    "\n",
    "train_pd = pd.read_csv('./data/kaggle_house_pred_train.csv')\n",
    "test_pd = pd.read_csv('./data/kaggle_house_pred_test.csv')"
   ]
  },
  {
   "cell_type": "code",
   "execution_count": 66,
   "id": "e5ca355e-8998-4c5f-89e5-d1b5b829bced",
   "metadata": {},
   "outputs": [],
   "source": [
    "all_features = train_pd.iloc[:,1:-1]\n",
    "all_features:pd.core.frame.DataFrame\n",
    "numeric_features = all_features.dtypes[all_features.dtypes != object].index\n",
    "all_features[numeric_features] = all_features[numeric_features].apply(lambda x:(x - x.mean())/x.std())\n",
    "all_features[numeric_features] = all_features[numeric_features].fillna(0)"
   ]
  },
  {
   "cell_type": "code",
   "execution_count": null,
   "id": "930cafb3-879f-43e9-97f4-38f5dd188007",
   "metadata": {},
   "outputs": [],
   "source": []
  },
  {
   "cell_type": "code",
   "execution_count": null,
   "id": "9c5d1693-83a6-4633-b578-4ffb8c9a85db",
   "metadata": {},
   "outputs": [],
   "source": []
  }
 ],
 "metadata": {
  "kernelspec": {
   "display_name": "Python 3 (ipykernel)",
   "language": "python",
   "name": "python3"
  },
  "language_info": {
   "codemirror_mode": {
    "name": "ipython",
    "version": 3
   },
   "file_extension": ".py",
   "mimetype": "text/x-python",
   "name": "python",
   "nbconvert_exporter": "python",
   "pygments_lexer": "ipython3",
   "version": "3.9.7"
  }
 },
 "nbformat": 4,
 "nbformat_minor": 5
}
