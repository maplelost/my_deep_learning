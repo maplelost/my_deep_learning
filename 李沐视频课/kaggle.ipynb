{
 "cells": [
  {
   "cell_type": "code",
   "execution_count": 1,
   "id": "5314771b-61ba-4b7c-820f-1659ff90ce72",
   "metadata": {},
   "outputs": [],
   "source": [
    "%matplotlib inline\n",
    "import numpy as np\n",
    "import pandas as pd\n",
    "import torch\n",
    "import os\n",
    "from torch import nn\n",
    "from d2l import torch as d2l\n",
    "\n",
    "train_pd = pd.read_csv('./data/kaggle_house_pred_train.csv')\n",
    "test_pd = pd.read_csv('./data/kaggle_house_pred_test.csv')"
   ]
  },
  {
   "cell_type": "code",
   "execution_count": 2,
   "id": "e5ca355e-8998-4c5f-89e5-d1b5b829bced",
   "metadata": {},
   "outputs": [],
   "source": [
    "all_features = train_pd.iloc[:,1:-1]\n",
    "all_features:pd.core.frame.DataFrame\n",
    "numeric_features = all_features.dtypes[all_features.dtypes != object].index\n",
    "all_features[numeric_features] = all_features[numeric_features].apply(\n",
    "    lambda x: (x - x.mean())/x.std())\n",
    "all_features[numeric_features] = all_features[numeric_features].fillna(0)"
   ]
  },
  {
   "cell_type": "code",
   "execution_count": 3,
   "id": "930cafb3-879f-43e9-97f4-38f5dd188007",
   "metadata": {},
   "outputs": [
    {
     "data": {
      "text/plain": [
       "(1460, 331)"
      ]
     },
     "execution_count": 3,
     "metadata": {},
     "output_type": "execute_result"
    }
   ],
   "source": [
    "all_features = pd.get_dummies(all_features, dummy_na=True)\n",
    "all_features.shape"
   ]
  },
  {
   "cell_type": "code",
   "execution_count": 4,
   "id": "61f73471-d1ce-4384-960c-23a50ee7aed7",
   "metadata": {},
   "outputs": [],
   "source": [
    "nums_train = all_features.shape[0]\n",
    "train_data = torch.tensor(all_features.values,dtype = torch.float32)\n",
    "train_feautres = torch.tensor(train_pd.SalePrice.values.reshape(-1,1),dtype=torch.float32)"
   ]
  },
  {
   "cell_type": "code",
   "execution_count": 8,
   "id": "9c5d1693-83a6-4633-b578-4ffb8c9a85db",
   "metadata": {},
   "outputs": [],
   "source": [
    "loss = nn.MSELoss()\n",
    "\n",
    "def get_net():\n",
    "    return nn.Sequential(nn.Linear(331,1))\n",
    "\n",
    "def los_rmse(net,features,labels):\n",
    "    y = net(features)\n",
    "    torch.sqrt(\n",
    "        loss(\n",
    "            torch.log(net(features))\n",
    "            ,torch.log(labels)\n",
    "        ))\n",
    "    \n",
    "    "
   ]
  },
  {
   "cell_type": "code",
   "execution_count": 9,
   "id": "7eda2cc6-1a6f-4f85-ab24-8e4221a7738c",
   "metadata": {},
   "outputs": [
    {
     "data": {
      "text/plain": [
       "(1460, 331)"
      ]
     },
     "execution_count": 9,
     "metadata": {},
     "output_type": "execute_result"
    }
   ],
   "source": [
    "all_features.shape"
   ]
  },
  {
   "cell_type": "code",
   "execution_count": null,
   "id": "dd92109f-1ca4-4668-b565-fd050ee031c3",
   "metadata": {},
   "outputs": [],
   "source": []
  }
 ],
 "metadata": {
  "kernelspec": {
   "display_name": "Python 3 (ipykernel)",
   "language": "python",
   "name": "python3"
  },
  "language_info": {
   "codemirror_mode": {
    "name": "ipython",
    "version": 3
   },
   "file_extension": ".py",
   "mimetype": "text/x-python",
   "name": "python",
   "nbconvert_exporter": "python",
   "pygments_lexer": "ipython3",
   "version": "3.9.7"
  }
 },
 "nbformat": 4,
 "nbformat_minor": 5
}
