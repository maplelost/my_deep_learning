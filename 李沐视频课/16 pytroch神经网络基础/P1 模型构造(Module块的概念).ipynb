{
 "cells": [
  {
   "cell_type": "markdown",
   "id": "5b340dd9-b2a2-43ec-a39e-8ab8342a6cf0",
   "metadata": {
    "tags": []
   },
   "source": [
    "# 层和块\n",
    "任何一个层和神经网络,都应该是Module的一个子类"
   ]
  },
  {
   "cell_type": "code",
   "execution_count": 54,
   "id": "63140961-e400-4cc4-9b4a-66779b4f9166",
   "metadata": {},
   "outputs": [
    {
     "data": {
      "text/plain": [
       "tensor([[-0.0712, -0.1278, -0.0124, -0.0046, -0.0456, -0.0139, -0.1957, -0.0197,\n",
       "          0.1245, -0.0387],\n",
       "        [-0.0109, -0.1360, -0.1159, -0.0752, -0.0908,  0.0179, -0.2747,  0.0150,\n",
       "          0.0976, -0.0964]], grad_fn=<AddmmBackward0>)"
      ]
     },
     "execution_count": 54,
     "metadata": {},
     "output_type": "execute_result"
    }
   ],
   "source": [
    "import os;import os.path as osp;import json ;from glob import glob;from rich import print;from munch import Munch\n",
    "from torch import nn\n",
    "from torch.nn import functional as F\n",
    "\n",
    "net = nn.Sequential(nn.Linear(20,256),nn.ReLU(),nn.Linear(256,10))\n",
    "\n",
    "X = torch.rand(2,20)\n",
    "net(X)"
   ]
  },
  {
   "attachments": {
    "4f909c09-7761-4d87-b1be-fd79d32f9875.png": {
     "image/png": "[encoded data removed]"
    }
   },
   "cell_type": "markdown",
   "id": "17311ece-4bd8-473c-a5f0-416029c3dfae",
   "metadata": {},
   "source": [
    "![image.png](attachment:4f909c09-7761-4d87-b1be-fd79d32f9875.png)"
   ]
  },
  {
   "cell_type": "markdown",
   "id": "a20d904f-eec0-4592-bf6e-5a4fbe5ea272",
   "metadata": {},
   "source": [
    "## 1.1自定义块"
   ]
  },
  {
   "cell_type": "code",
   "execution_count": 50,
   "id": "173abdd5-e77e-45db-a99f-3bc292ef4ac9",
   "metadata": {},
   "outputs": [
    {
     "data": {
      "text/plain": [
       "tensor([[-0.1208,  0.1283, -0.0124,  0.0689,  0.1006, -0.0526, -0.0510, -0.2414,\n",
       "          0.0081,  0.2493],\n",
       "        [-0.0427,  0.0598, -0.0760, -0.0204,  0.1236,  0.0425, -0.0236, -0.2165,\n",
       "         -0.0287,  0.1801]], grad_fn=<AddmmBackward0>)"
      ]
     },
     "execution_count": 50,
     "metadata": {},
     "output_type": "execute_result"
    }
   ],
   "source": [
    "class MLP(nn.Module):\n",
    "    # 用模型参数声明层。这里，我们声明两个全连接的层\n",
    "    def __init__(self):\n",
    "        # 调用MLP的父类Module的构造函数来执行必要的初始化。\n",
    "        # 这样，在类实例化时也可以指定其他函数参数，例如模型参数params（稍后将介绍）\n",
    "        super().__init__()\n",
    "        self.hidden = nn.Linear(20, 256)  # 隐藏层\n",
    "        self.out = nn.Linear(256, 10)  # 输出层\n",
    "\n",
    "    # 定义模型的前向传播，即如何根据输入X返回所需的模型输出\n",
    "    def forward(self, X):\n",
    "        # 注意，这里我们使用ReLU的函数版本，其在nn.functional模块中定义。\n",
    "        return self.out(F.relu(self.hidden(X)))\n",
    "net = MLP()\n",
    "net(X)"
   ]
  },
  {
   "cell_type": "markdown",
   "id": "9df40a34-043b-42da-ac38-70cab4d230a6",
   "metadata": {},
   "source": [
    "## 1.2顺序块"
   ]
  },
  {
   "cell_type": "code",
   "execution_count": 73,
   "id": "cc7220ae-8a85-4a32-a231-152d5e085007",
   "metadata": {},
   "outputs": [
    {
     "data": {
      "text/plain": [
       "tensor([[ 0.0727,  0.1931, -0.1105, -0.1423,  0.0856, -0.0414, -0.1736, -0.1213,\n",
       "         -0.1151, -0.2333],\n",
       "        [ 0.1012,  0.2380, -0.0851, -0.1491,  0.1256, -0.0456, -0.0644, -0.1208,\n",
       "         -0.1536, -0.1855]], grad_fn=<AddmmBackward0>)"
      ]
     },
     "execution_count": 73,
     "metadata": {},
     "output_type": "execute_result"
    }
   ],
   "source": [
    "class MySequential(nn.Module):\n",
    "    def __init__(self, *args):\n",
    "        super().__init__()\n",
    "        for idx, module in enumerate(args):\n",
    "            # 这里，module是Module子类的一个实例。我们把它保存在'Module'类的成员\n",
    "            # 变量_modules中。module的类型是OrderedDict\n",
    "            self._modules[str(idx)] = module\n",
    "\n",
    "    def forward(self, X):\n",
    "        # OrderedDict保证了按照成员添加的顺序遍历它们\n",
    "        for block in self._modules.values():\n",
    "            X = block(X)\n",
    "        return X\n",
    "\n",
    "net = MySequential(nn.Linear(20,256),nn.ReLU(),nn.Linear(256,10))\n",
    "net(X)"
   ]
  },
  {
   "cell_type": "markdown",
   "id": "0e744091-06a5-4a66-b9f8-6c6d1f6c710d",
   "metadata": {},
   "source": [
    "## 1.3在正向传播中执行代码"
   ]
  },
  {
   "cell_type": "code",
   "execution_count": 74,
   "id": "3ccb47be-471a-40cd-87d3-adbadd4c8c58",
   "metadata": {},
   "outputs": [
    {
     "data": {
      "text/plain": [
       "tensor(-0.1863, grad_fn=<SumBackward0>)"
      ]
     },
     "execution_count": 74,
     "metadata": {},
     "output_type": "execute_result"
    }
   ],
   "source": [
    "class FixedHiddenMLP(nn.Module):\n",
    "    def __init__(self):\n",
    "        super().__init__()\n",
    "        # 不计算梯度的随机权重参数。因此其在训练期间保持不变\n",
    "        self.rand_weight = torch.rand((20, 20), requires_grad=False)\n",
    "        self.linear = nn.Linear(20, 20)\n",
    "\n",
    "    def forward(self, X):\n",
    "        X = self.linear(X)\n",
    "        # 使用创建的常量参数以及relu和mm函数\n",
    "        X = F.relu(torch.mm(X, self.rand_weight) + 1)\n",
    "        # 复用全连接层。这相当于两个全连接层共享参数\n",
    "        X = self.linear(X)\n",
    "        # 控制流\n",
    "        while X.abs().sum() > 1:\n",
    "            X /= 2\n",
    "        return X.sum()\n",
    "    \n",
    "net = FixedHiddenMLP()\n",
    "net(X)"
   ]
  },
  {
   "cell_type": "markdown",
   "id": "6a2f245d-fef8-444a-8924-4995844e1e2c",
   "metadata": {},
   "source": [
    "## 1.4混合搭配各种组合块方法"
   ]
  },
  {
   "cell_type": "code",
   "execution_count": 75,
   "id": "e71b9e6a-096e-404e-9bc5-c0aad7611315",
   "metadata": {},
   "outputs": [
    {
     "data": {
      "text/plain": [
       "tensor(-0.4144, grad_fn=<SumBackward0>)"
      ]
     },
     "execution_count": 75,
     "metadata": {},
     "output_type": "execute_result"
    }
   ],
   "source": [
    "class NestMLP(nn.Module):\n",
    "    def __init__(self):\n",
    "        super().__init__()\n",
    "        self.net = nn.Sequential(nn.Linear(20, 64), nn.ReLU(),\n",
    "                                 nn.Linear(64, 32), nn.ReLU())\n",
    "        self.linear = nn.Linear(32, 16)\n",
    "\n",
    "    def forward(self, X):\n",
    "        return self.linear(self.net(X))\n",
    "\n",
    "chimera = nn.Sequential(NestMLP(), nn.Linear(16, 20), FixedHiddenMLP())\n",
    "chimera(X)"
   ]
  }
 ],
 "metadata": {
  "kernelspec": {
   "display_name": "Python 3 (ipykernel)",
   "language": "python",
   "name": "python3"
  },
  "language_info": {
   "codemirror_mode": {
    "name": "ipython",
    "version": 3
   },
   "file_extension": ".py",
   "mimetype": "text/x-python",
   "name": "python",
   "nbconvert_exporter": "python",
   "pygments_lexer": "ipython3",
   "version": "3.9.7"
  }
 },
 "nbformat": 4,
 "nbformat_minor": 5
}
