{
 "cells": [
  {
   "cell_type": "code",
   "execution_count": 2,
   "id": "1f2e5614-9e74-466b-9b85-2b58ce1a4ee3",
   "metadata": {},
   "outputs": [
    {
     "data": {
      "text/plain": [
       "tensor([[-0.1531],\n",
       "        [-0.0987]], grad_fn=<AddmmBackward0>)"
      ]
     },
     "execution_count": 2,
     "metadata": {},
     "output_type": "execute_result"
    }
   ],
   "source": [
    "## 1.1单隐藏层的多层感知机\n",
    "import torch\n",
    "from torch import nn\n",
    "\n",
    "net = nn.Sequential(nn.Linear(4, 8), nn.ReLU(), nn.Linear(8, 1))\n",
    "X = torch.rand(size=(2,4))\n",
    "net(X)"
   ]
  },
  {
   "cell_type": "markdown",
   "id": "ab7b9f42-d38a-4922-b38c-195cf5a1b7be",
   "metadata": {},
   "source": [
    "## 1.2 参数访问"
   ]
  },
  {
   "cell_type": "code",
   "execution_count": 3,
   "id": "6c0f722f-0826-452d-b2c0-a065306af5e0",
   "metadata": {},
   "outputs": [
    {
     "name": "stdout",
     "output_type": "stream",
     "text": [
      "OrderedDict([('weight', tensor([[-0.2824,  0.2911,  0.0712, -0.2570, -0.1514, -0.0616, -0.0612, -0.1061]])), ('bias', tensor([-0.0370]))])\n"
     ]
    }
   ],
   "source": [
    "# nn.Linear(8, 1)的weight以及bias\n",
    "print(net[2].state_dict())"
   ]
  },
  {
   "cell_type": "code",
   "execution_count": 4,
   "id": "0bf12cd9-e079-4968-a380-3ba4edde42b7",
   "metadata": {},
   "outputs": [
    {
     "name": "stdout",
     "output_type": "stream",
     "text": [
      "<class 'torch.nn.parameter.Parameter'>\n",
      "Parameter containing:\n",
      "tensor([-0.0370], requires_grad=True)\n",
      "tensor([-0.0370])\n"
     ]
    }
   ],
   "source": [
    "print(type(net[2].bias))\n",
    "print(net[2].bias)\n",
    "print(net[2].bias.data)"
   ]
  },
  {
   "cell_type": "code",
   "execution_count": 5,
   "id": "2fff9333-e1be-4e47-8d5f-a6c1a4b7500a",
   "metadata": {},
   "outputs": [
    {
     "data": {
      "text/plain": [
       "True"
      ]
     },
     "execution_count": 5,
     "metadata": {},
     "output_type": "execute_result"
    }
   ],
   "source": [
    "net[2].weight.grad == None"
   ]
  },
  {
   "cell_type": "markdown",
   "id": "5a2b16eb-eb8e-453f-ab2b-f1f3821fb332",
   "metadata": {},
   "source": [
    "## 1.3 一次性访问所有参数"
   ]
  },
  {
   "cell_type": "code",
   "execution_count": 6,
   "id": "39a7d9d3-6497-46c9-ae60-77d12de21122",
   "metadata": {},
   "outputs": [
    {
     "name": "stdout",
     "output_type": "stream",
     "text": [
      "('weight', torch.Size([8, 4])) ('bias', torch.Size([8]))\n",
      "('0.weight', torch.Size([8, 4])) ('0.bias', torch.Size([8])) ('2.weight', torch.Size([1, 8])) ('2.bias', torch.Size([1]))\n"
     ]
    }
   ],
   "source": [
    "print(*[(name, param.shape)for name,param in net[0].named_parameters()])\n",
    "print(*[(name, param.shape) for name, param in net.named_parameters()])"
   ]
  },
  {
   "cell_type": "code",
   "execution_count": 7,
   "id": "5ca78b2c-6aaf-414a-81f0-be9b1d44da84",
   "metadata": {},
   "outputs": [
    {
     "data": {
      "text/plain": [
       "tensor([-0.0370])"
      ]
     },
     "execution_count": 7,
     "metadata": {},
     "output_type": "execute_result"
    }
   ],
   "source": [
    "net.state_dict()['2.bias'].data"
   ]
  },
  {
   "cell_type": "markdown",
   "id": "e26e2073-2d9f-4113-af98-11cfbf3aaae5",
   "metadata": {},
   "source": [
    "## 1.4 从嵌套块收集参数"
   ]
  },
  {
   "cell_type": "code",
   "execution_count": 8,
   "id": "172ad599-0cae-4c96-907a-08a1887d6c2f",
   "metadata": {},
   "outputs": [
    {
     "data": {
      "text/plain": [
       "tensor([[-0.3974],\n",
       "        [-0.3974]], grad_fn=<AddmmBackward0>)"
      ]
     },
     "execution_count": 8,
     "metadata": {},
     "output_type": "execute_result"
    }
   ],
   "source": [
    "def block1():\n",
    "    return nn.Sequential(nn.Linear(4, 8), nn.ReLU(),\n",
    "                         nn.Linear(8, 4), nn.ReLU())\n",
    "\n",
    "def block2():\n",
    "    net = nn.Sequential()\n",
    "    for i in range(4):\n",
    "        # 在这里嵌套\n",
    "        net.add_module(f'block_自定义 {i}', block1())\n",
    "    return net\n",
    "\n",
    "rgnet = nn.Sequential(block2(), nn.Linear(4, 1))\n",
    "rgnet(X)"
   ]
  },
  {
   "cell_type": "code",
   "execution_count": 9,
   "id": "29c8b626-f356-4b7e-93c5-6507b64e7592",
   "metadata": {},
   "outputs": [
    {
     "name": "stdout",
     "output_type": "stream",
     "text": [
      "Sequential(\n",
      "  (0): Sequential(\n",
      "    (block_自定义 0): Sequential(\n",
      "      (0): Linear(in_features=4, out_features=8, bias=True)\n",
      "      (1): ReLU()\n",
      "      (2): Linear(in_features=8, out_features=4, bias=True)\n",
      "      (3): ReLU()\n",
      "    )\n",
      "    (block_自定义 1): Sequential(\n",
      "      (0): Linear(in_features=4, out_features=8, bias=True)\n",
      "      (1): ReLU()\n",
      "      (2): Linear(in_features=8, out_features=4, bias=True)\n",
      "      (3): ReLU()\n",
      "    )\n",
      "    (block_自定义 2): Sequential(\n",
      "      (0): Linear(in_features=4, out_features=8, bias=True)\n",
      "      (1): ReLU()\n",
      "      (2): Linear(in_features=8, out_features=4, bias=True)\n",
      "      (3): ReLU()\n",
      "    )\n",
      "    (block_自定义 3): Sequential(\n",
      "      (0): Linear(in_features=4, out_features=8, bias=True)\n",
      "      (1): ReLU()\n",
      "      (2): Linear(in_features=8, out_features=4, bias=True)\n",
      "      (3): ReLU()\n",
      "    )\n",
      "  )\n",
      "  (1): Linear(in_features=4, out_features=1, bias=True)\n",
      ")\n"
     ]
    }
   ],
   "source": [
    "print(rgnet)"
   ]
  },
  {
   "cell_type": "markdown",
   "id": "1bdecf02-26ff-4877-8160-c321b43d0fed",
   "metadata": {},
   "source": [
    "## 2.1参数初始化\n",
    "### 2.1.1内置初始化"
   ]
  },
  {
   "cell_type": "code",
   "execution_count": 10,
   "id": "895c59ce-cf20-4075-af7d-61a8d243bf6f",
   "metadata": {},
   "outputs": [
    {
     "name": "stdout",
     "output_type": "stream",
     "text": [
      "Linear(in_features=4, out_features=8, bias=True)\n",
      "XXX\n",
      "ReLU()\n",
      "Linear(in_features=8, out_features=1, bias=True)\n",
      "XXX\n",
      "Sequential(\n",
      "  (0): Linear(in_features=4, out_features=8, bias=True)\n",
      "  (1): ReLU()\n",
      "  (2): Linear(in_features=8, out_features=1, bias=True)\n",
      ")\n"
     ]
    },
    {
     "data": {
      "text/plain": [
       "(tensor([2.9961, 2.9991, 3.0026, 3.0135]),\n",
       " tensor(0.),\n",
       " tensor([2.9929, 3.0004, 2.9940, 3.0087, 2.9834, 3.0119, 3.0024, 2.9921]),\n",
       " tensor(0.))"
      ]
     },
     "execution_count": 10,
     "metadata": {},
     "output_type": "execute_result"
    }
   ],
   "source": [
    "def init_normal(m):\n",
    "    print(m)\n",
    "    if type(m) == nn.Linear:\n",
    "        print(\"XXX\")\n",
    "        nn.init.normal_(m.weight, mean=3, std=0.01)\n",
    "        nn.init.zeros_(m.bias)\n",
    "net.apply(init_normal)\n",
    "net[0].weight.data[0], net[0].bias.data[0],net[2].weight.data[0], net[2].bias.data[0]"
   ]
  },
  {
   "cell_type": "code",
   "execution_count": 11,
   "id": "f658fe4e-af1b-4c2a-9519-917bf707bb57",
   "metadata": {
    "tags": []
   },
   "outputs": [
    {
     "name": "stdout",
     "output_type": "stream",
     "text": [
      "Linear(in_features=4, out_features=1, bias=True)\n",
      "XXX\n",
      "Sequential(\n",
      "  (0): Linear(in_features=4, out_features=1, bias=True)\n",
      ")\n",
      "Linear(in_features=4, out_features=3, bias=True)\n",
      "XXX\n",
      "ReLU()\n",
      "Linear(in_features=8, out_features=2, bias=True)\n",
      "XXX\n",
      "Linear(in_features=4, out_features=1, bias=True)\n",
      "XXX\n",
      "Sequential(\n",
      "  (0): Linear(in_features=4, out_features=1, bias=True)\n",
      ")\n",
      "Sequential(\n",
      "  (0): Sequential(\n",
      "    (0): Linear(in_features=4, out_features=1, bias=True)\n",
      "  )\n",
      "  (1): Linear(in_features=4, out_features=3, bias=True)\n",
      "  (2): ReLU()\n",
      "  (3): Linear(in_features=8, out_features=2, bias=True)\n",
      "  (4): Sequential(\n",
      "    (0): Linear(in_features=4, out_features=1, bias=True)\n",
      "  )\n",
      ")\n"
     ]
    },
    {
     "data": {
      "text/plain": [
       "Sequential(\n",
       "  (0): Sequential(\n",
       "    (0): Linear(in_features=4, out_features=1, bias=True)\n",
       "  )\n",
       "  (1): Linear(in_features=4, out_features=3, bias=True)\n",
       "  (2): ReLU()\n",
       "  (3): Linear(in_features=8, out_features=2, bias=True)\n",
       "  (4): Sequential(\n",
       "    (0): Linear(in_features=4, out_features=1, bias=True)\n",
       "  )\n",
       ")"
      ]
     },
     "execution_count": 11,
     "metadata": {},
     "output_type": "execute_result"
    }
   ],
   "source": [
    "net_test = nn.Sequential(nn.Sequential(nn.Linear(4,1)),nn.Linear(4, 3), nn.ReLU(), nn.Linear(8, 2),nn.Sequential(nn.Linear(4,1)))\n",
    "net_test.apply(init_normal)"
   ]
  },
  {
   "cell_type": "code",
   "execution_count": 13,
   "id": "b6e60724-a792-4636-a540-92b1a2597bbf",
   "metadata": {},
   "outputs": [
    {
     "data": {
      "text/plain": [
       "(tensor([1., 1., 1., 1.]), tensor(0.))"
      ]
     },
     "execution_count": 13,
     "metadata": {},
     "output_type": "execute_result"
    }
   ],
   "source": [
    "def init_constant(m):\n",
    "    if type(m) == nn.Linear:\n",
    "        nn.init.constant_(m.weight, 1)\n",
    "        nn.init.zeros_(m.bias)\n",
    "\n",
    "net.apply(init_constant)\n",
    "net[0].weight.data[0], net[0].bias.data[0]"
   ]
  },
  {
   "cell_type": "code",
   "execution_count": 19,
   "id": "64ab35f6-484a-459b-8447-85e09069f641",
   "metadata": {},
   "outputs": [
    {
     "data": {
      "text/plain": [
       "(tensor([[0.0675],\n",
       "         [0.1068]], grad_fn=<AddmmBackward0>),\n",
       " Parameter containing:\n",
       " tensor([[-0.4484,  0.4221, -0.1396, -0.0455]], requires_grad=True),\n",
       " Parameter containing:\n",
       " tensor([0.1442], requires_grad=True))"
      ]
     },
     "execution_count": 19,
     "metadata": {},
     "output_type": "execute_result"
    }
   ],
   "source": [
    "net_ones = nn.Linear(4,1)\n",
    "a = torch.rand(2,4)\n",
    "net_ones(a),net_ones.weight,net_ones.bias"
   ]
  },
  {
   "cell_type": "markdown",
   "id": "b975fbae-c7e3-45f2-92d4-21c2433ae6bf",
   "metadata": {},
   "source": [
    "## 2.2对不同的模块应用不同的初始化方法"
   ]
  },
  {
   "cell_type": "code",
   "execution_count": 20,
   "id": "ffd437e2-e692-4362-8997-60b8762d8fae",
   "metadata": {},
   "outputs": [
    {
     "name": "stdout",
     "output_type": "stream",
     "text": [
      "tensor([ 0.0207, -0.3487,  0.2831, -0.2391])\n",
      "tensor([[42., 42., 42., 42., 42., 42., 42., 42.]])\n"
     ]
    }
   ],
   "source": [
    "def xavier(m):\n",
    "    if type(m) == nn.Linear:\n",
    "        nn.init.xavier_uniform_(m.weight)\n",
    "def init_42(m):\n",
    "    if type(m) == nn.Linear:\n",
    "        nn.init.constant_(m.weight, 42)\n",
    "\n",
    "net[0].apply(xavier)\n",
    "net[2].apply(init_42)\n",
    "print(net[0].weight.data[0])\n",
    "print(net[2].weight.data)"
   ]
  },
  {
   "cell_type": "markdown",
   "id": "e905301a-68a8-4ff8-9530-9660a3f131d0",
   "metadata": {},
   "source": [
    "## 2.3自定义初始化"
   ]
  },
  {
   "cell_type": "code",
   "execution_count": 21,
   "id": "2472b481-2b0d-4812-a539-62579ee8471c",
   "metadata": {},
   "outputs": [
    {
     "name": "stdout",
     "output_type": "stream",
     "text": [
      "Init weight torch.Size([8, 4])\n",
      "Init weight torch.Size([1, 8])\n"
     ]
    },
    {
     "data": {
      "text/plain": [
       "tensor([[-5.4784, -6.2278,  5.6366,  9.5815],\n",
       "        [ 0.0000,  5.7287,  0.0000, -8.8529]], grad_fn=<SliceBackward0>)"
      ]
     },
     "execution_count": 21,
     "metadata": {},
     "output_type": "execute_result"
    }
   ],
   "source": [
    "def my_init(m):\n",
    "    if type(m) == nn.Linear:\n",
    "        print(\"Init\", *[(name, param.shape)\n",
    "                        for name, param in m.named_parameters()][0])\n",
    "        nn.init.uniform_(m.weight, -10, 10)\n",
    "        m.weight.data *= m.weight.data.abs() >= 5\n",
    "\n",
    "net.apply(my_init)\n",
    "net[0].weight[:2]"
   ]
  },
  {
   "cell_type": "code",
   "execution_count": 22,
   "id": "f0cacb86-80b7-4f25-9e2a-76a5508486ee",
   "metadata": {},
   "outputs": [
    {
     "data": {
      "text/plain": [
       "tensor([42.0000, -5.2278,  6.6366, 10.5815])"
      ]
     },
     "execution_count": 22,
     "metadata": {},
     "output_type": "execute_result"
    }
   ],
   "source": [
    "net[0].weight.data[:] += 1\n",
    "net[0].weight.data[0, 0] = 42\n",
    "net[0].weight.data[0]"
   ]
  },
  {
   "cell_type": "markdown",
   "id": "4a6a2f6c-81f0-4003-97d0-b50673363f56",
   "metadata": {},
   "source": [
    "## 2.4参数绑定"
   ]
  },
  {
   "cell_type": "code",
   "execution_count": 23,
   "id": "ba8eae4d-4cc6-4da6-afaa-4094574f6016",
   "metadata": {},
   "outputs": [
    {
     "name": "stdout",
     "output_type": "stream",
     "text": [
      "tensor([True, True, True, True, True, True, True, True])\n",
      "tensor([True, True, True, True, True, True, True, True])\n"
     ]
    }
   ],
   "source": [
    "# 我们需要给共享层一个名称，以便可以引用它的参数\n",
    "shared = nn.Linear(8, 8)\n",
    "net = nn.Sequential(nn.Linear(4, 8), nn.ReLU(),\n",
    "                    shared, nn.ReLU(),\n",
    "                    shared, nn.ReLU(),\n",
    "                    nn.Linear(8, 1))\n",
    "net(X)\n",
    "# 检查参数是否相同\n",
    "print(net[2].weight.data[0] == net[4].weight.data[0])\n",
    "net[2].weight.data[0, 0] = 100\n",
    "# 确保它们实际上是同一个对象，而不只是有相同的值\n",
    "print(net[2].weight.data[0] == net[4].weight.data[0])"
   ]
  },
  {
   "cell_type": "code",
   "execution_count": null,
   "id": "61f704c7-2132-4032-984a-2abe13647d34",
   "metadata": {},
   "outputs": [],
   "source": []
  },
  {
   "cell_type": "code",
   "execution_count": null,
   "id": "74ae90d0-934a-452d-b046-1c3c3bd4d029",
   "metadata": {},
   "outputs": [],
   "source": []
  }
 ],
 "metadata": {
  "kernelspec": {
   "display_name": "Python 3 (ipykernel)",
   "language": "python",
   "name": "python3"
  },
  "language_info": {
   "codemirror_mode": {
    "name": "ipython",
    "version": 3
   },
   "file_extension": ".py",
   "mimetype": "text/x-python",
   "name": "python",
   "nbconvert_exporter": "python",
   "pygments_lexer": "ipython3",
   "version": "3.9.7"
  }
 },
 "nbformat": 4,
 "nbformat_minor": 5
}
