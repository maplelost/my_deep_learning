{
 "cells": [
  {
   "cell_type": "code",
   "execution_count": 2,
   "id": "c0912a01-644e-45d7-b5ae-4e7c8c46560c",
   "metadata": {
    "execution": {
     "iopub.execute_input": "2021-12-27T12:45:18.310777Z",
     "iopub.status.busy": "2021-12-27T12:45:18.310519Z",
     "iopub.status.idle": "2021-12-27T12:45:19.968190Z",
     "shell.execute_reply": "2021-12-27T12:45:19.967781Z",
     "shell.execute_reply.started": "2021-12-27T12:45:18.310748Z"
    },
    "tags": []
   },
   "outputs": [],
   "source": [
    "import math\n",
    "import numpy as np\n",
    "import torch \n",
    "from torch import nn\n",
    "from d2l import torch as d2l"
   ]
  },
  {
   "cell_type": "code",
   "execution_count": 46,
   "id": "5d4263d2-9b96-480a-802a-9db2442de8d0",
   "metadata": {
    "execution": {
     "iopub.execute_input": "2021-12-27T15:01:25.017909Z",
     "iopub.status.busy": "2021-12-27T15:01:25.017649Z",
     "iopub.status.idle": "2021-12-27T15:01:25.026000Z",
     "shell.execute_reply": "2021-12-27T15:01:25.025427Z",
     "shell.execute_reply.started": "2021-12-27T15:01:25.017881Z"
    },
    "tags": []
   },
   "outputs": [
    {
     "name": "stdout",
     "output_type": "stream",
     "text": [
      "(200, 1)\n",
      "(200, 20)\n",
      "[[ 1.00000000e+00 -1.74998621e+00  3.06245172e+00 -5.35924826e+00\n",
      "   9.37861053e+00 -1.64124391e+01  2.87215420e+01 -5.02623022e+01\n",
      "   8.79583356e+01 -1.53925874e+02  2.69368156e+02 -4.71390557e+02\n",
      "   8.24926972e+02 -1.44361082e+03  2.52629903e+03 -4.42098844e+03\n",
      "   7.73666879e+03 -1.35390637e+04  2.36931746e+04 -4.14627288e+04]]\n",
      "[-37.52410957]\n"
     ]
    }
   ],
   "source": [
    "max_degree = 20\n",
    "n_train, n_test = 100 , 100\n",
    "true_w = np.zeros(max_degree)\n",
    "true_w[0:4] = np.array([5,1.2,-3.4,5.6])\n",
    "\n",
    "features = np.random.normal(size=(n_train+n_test,1)) # 生成训练数据集,测试数据集,其实就是x的值\n",
    "np.random.shuffle(features) # 将x的顺序打乱.增加随机性质\n",
    "print(features.shape)\n",
    "poly_features = np.power(features, np.arange(max_degree).reshape(1,-1)) # 将x进行1-20次方的幂运算,该方法将向量拓展为矩阵\n",
    "print(poly_features.shape)\n",
    "for i in range(max_degree):\n",
    "    poly_features[:][i] /= math.gamma(i+1) # 除以n!\n",
    "print(poly_features[:1])\n",
    "labels = np.dot(poly_features, true_w) # 算出labels,也就是y\n",
    "print(labels[:1])"
   ]
  },
  {
   "cell_type": "code",
   "execution_count": 38,
   "id": "5c40585a-0d0e-48b7-8281-9a735456b713",
   "metadata": {
    "execution": {
     "iopub.execute_input": "2021-12-27T14:50:56.602191Z",
     "iopub.status.busy": "2021-12-27T14:50:56.601939Z",
     "iopub.status.idle": "2021-12-27T14:50:56.607248Z",
     "shell.execute_reply": "2021-12-27T14:50:56.606534Z",
     "shell.execute_reply.started": "2021-12-27T14:50:56.602163Z"
    },
    "tags": []
   },
   "outputs": [
    {
     "data": {
      "text/plain": [
       "array([[1, 1, 1, 1, 1, 1],\n",
       "       [2, 4, 2, 2, 2, 2],\n",
       "       [3, 9, 3, 3, 3, 3]])"
      ]
     },
     "execution_count": 38,
     "metadata": {},
     "output_type": "execute_result"
    }
   ],
   "source": [
    "np.power([[1],[2],[3]],[1,2,1,1,1,1])"
   ]
  },
  {
   "cell_type": "code",
   "execution_count": 40,
   "id": "62b9286a-a7cb-4bcf-a50a-829dc38ef695",
   "metadata": {
    "execution": {
     "iopub.execute_input": "2021-12-27T14:52:37.636217Z",
     "iopub.status.busy": "2021-12-27T14:52:37.635998Z",
     "iopub.status.idle": "2021-12-27T14:52:37.640548Z",
     "shell.execute_reply": "2021-12-27T14:52:37.640018Z",
     "shell.execute_reply.started": "2021-12-27T14:52:37.636193Z"
    },
    "tags": []
   },
   "outputs": [
    {
     "data": {
      "text/plain": [
       "array([[  1,   2,   3,   4,   5,   6],\n",
       "       [  1,   4,   9,  16,  25,  36],\n",
       "       [  1,   8,  27,  64, 125, 216]])"
      ]
     },
     "execution_count": 40,
     "metadata": {},
     "output_type": "execute_result"
    }
   ],
   "source": [
    "np.power([1,2,3,4,5,6],[[1],[2],[3]])"
   ]
  },
  {
   "cell_type": "code",
   "execution_count": 43,
   "id": "4845e0d1-fb30-4a61-938a-9e1477c17b65",
   "metadata": {
    "execution": {
     "iopub.execute_input": "2021-12-27T14:56:39.059282Z",
     "iopub.status.busy": "2021-12-27T14:56:39.059010Z",
     "iopub.status.idle": "2021-12-27T14:56:39.064365Z",
     "shell.execute_reply": "2021-12-27T14:56:39.063587Z",
     "shell.execute_reply.started": "2021-12-27T14:56:39.059251Z"
    },
    "tags": []
   },
   "outputs": [
    {
     "data": {
      "text/plain": [
       "array([ 5. ,  1.2, -3.4,  5.6,  0. ,  0. ,  0. ,  0. ,  0. ,  0. ,  0. ,\n",
       "        0. ,  0. ,  0. ,  0. ,  0. ,  0. ,  0. ,  0. ,  0. ])"
      ]
     },
     "execution_count": 43,
     "metadata": {},
     "output_type": "execute_result"
    }
   ],
   "source": []
  },
  {
   "cell_type": "code",
   "execution_count": null,
   "id": "885a3555-edcd-4cf6-ad4a-bf3a9555783f",
   "metadata": {},
   "outputs": [],
   "source": []
  }
 ],
 "metadata": {
  "kernelspec": {
   "display_name": "Python 3 (ipykernel)",
   "language": "python",
   "name": "python3"
  },
  "language_info": {
   "codemirror_mode": {
    "name": "ipython",
    "version": 3
   },
   "file_extension": ".py",
   "mimetype": "text/x-python",
   "name": "python",
   "nbconvert_exporter": "python",
   "pygments_lexer": "ipython3",
   "version": "3.8.5"
  }
 },
 "nbformat": 4,
 "nbformat_minor": 5
}
