{
 "cells": [
  {
   "cell_type": "code",
   "execution_count": 1,
   "id": "2af959cc-369e-4465-a2fb-59b1d38773e4",
   "metadata": {
    "execution": {
     "iopub.execute_input": "2022-03-15T14:29:48.579035Z",
     "iopub.status.busy": "2022-03-15T14:29:48.578808Z",
     "iopub.status.idle": "2022-03-15T14:29:50.572373Z",
     "shell.execute_reply": "2022-03-15T14:29:50.571854Z",
     "shell.execute_reply.started": "2022-03-15T14:29:48.578985Z"
    },
    "tags": []
   },
   "outputs": [
    {
     "name": "stderr",
     "output_type": "stream",
     "text": [
      "/opt/anaconda3/lib/python3.8/site-packages/torchvision/datasets/mnist.py:498: UserWarning: The given NumPy array is not writeable, and PyTorch does not support non-writeable tensors. This means you can write to the underlying (supposedly non-writeable) NumPy array using the tensor. You may want to copy the array to protect its data or make it writeable before converting it to a tensor. This type of warning will be suppressed for the rest of this program. (Triggered internally at  ../torch/csrc/utils/tensor_numpy.cpp:180.)\n",
      "  return torch.from_numpy(parsed.astype(m[2], copy=False)).view(*s)\n"
     ]
    }
   ],
   "source": [
    "import torch\n",
    "from torch import nn\n",
    "from d2l import torch as d2l\n",
    "\n",
    "batch_size = 256\n",
    "train_iter, test_iter = d2l.load_data_fashion_mnist(batch_size)"
   ]
  },
  {
   "cell_type": "code",
   "execution_count": 3,
   "id": "0e0a9d30-8d07-4ffb-9425-f038efbbb27b",
   "metadata": {
    "execution": {
     "iopub.execute_input": "2021-12-16T13:59:17.892880Z",
     "iopub.status.busy": "2021-12-16T13:59:17.892629Z",
     "iopub.status.idle": "2021-12-16T13:59:17.899124Z",
     "shell.execute_reply": "2021-12-16T13:59:17.898488Z",
     "shell.execute_reply.started": "2021-12-16T13:59:17.892852Z"
    },
    "tags": []
   },
   "outputs": [],
   "source": [
    "num_inputs, num_outputs, num_hiddens = 784, 10, 256\n",
    "\n",
    "W1 = nn.Parameter(torch.randn(\n",
    "    num_inputs, num_hiddens, requires_grad=True) * 0.01)\n",
    "b1 = nn.Parameter(torch.zeros(num_hiddens, requires_grad=True))\n",
    "W2 = nn.Parameter(torch.randn(\n",
    "    num_hiddens, num_outputs, requires_grad=True) * 0.01)\n",
    "b2 = nn.Parameter(torch.zeros(num_outputs, requires_grad=True))\n",
    "\n",
    "params = [W1, b1, W2, b2]"
   ]
  },
  {
   "cell_type": "code",
   "execution_count": 4,
   "id": "e0d6724c-ea3f-4507-93f5-c7e47d33d0da",
   "metadata": {
    "execution": {
     "iopub.execute_input": "2021-12-16T14:00:45.043931Z",
     "iopub.status.busy": "2021-12-16T14:00:45.043671Z",
     "iopub.status.idle": "2021-12-16T14:00:45.047814Z",
     "shell.execute_reply": "2021-12-16T14:00:45.047227Z",
     "shell.execute_reply.started": "2021-12-16T14:00:45.043903Z"
    }
   },
   "outputs": [],
   "source": [
    "def relu(X):\n",
    "    a = torch.zeros_like(X)\n",
    "    return torch.max(X,a)"
   ]
  },
  {
   "cell_type": "code",
   "execution_count": 5,
   "id": "189732da-d2e2-4b7f-b4cd-32a09024eeb6",
   "metadata": {
    "execution": {
     "iopub.execute_input": "2021-12-16T14:22:02.479701Z",
     "iopub.status.busy": "2021-12-16T14:22:02.479452Z",
     "iopub.status.idle": "2021-12-16T14:22:02.483744Z",
     "shell.execute_reply": "2021-12-16T14:22:02.482768Z",
     "shell.execute_reply.started": "2021-12-16T14:22:02.479675Z"
    }
   },
   "outputs": [],
   "source": [
    "def net(X):\n",
    "    X = X.reshape((-1, num_inputs))\n",
    "    H = relu((X @ W1 +b1))\n",
    "    return (H @ W2 + b2)\n",
    "\n",
    "loss = nn.CrossEntropyLoss()"
   ]
  },
  {
   "cell_type": "code",
   "execution_count": 8,
   "id": "63def35a-1ba8-477d-973f-07e3d6477fb4",
   "metadata": {
    "execution": {
     "iopub.execute_input": "2021-12-16T14:45:21.690004Z",
     "iopub.status.busy": "2021-12-16T14:45:21.689740Z",
     "iopub.status.idle": "2021-12-16T14:45:23.203175Z",
     "shell.execute_reply": "2021-12-16T14:45:23.202442Z",
     "shell.execute_reply.started": "2021-12-16T14:45:21.689978Z"
    },
    "tags": []
   },
   "outputs": [],
   "source": [
    "for x in train_iter:\n",
    "    x\n",
    "    break"
   ]
  },
  {
   "cell_type": "code",
   "execution_count": 15,
   "id": "97a6b331-0033-4ce5-80e8-6341682496a3",
   "metadata": {
    "execution": {
     "iopub.execute_input": "2021-12-16T14:46:45.055093Z",
     "iopub.status.busy": "2021-12-16T14:46:45.054837Z",
     "iopub.status.idle": "2021-12-16T14:46:45.059742Z",
     "shell.execute_reply": "2021-12-16T14:46:45.059151Z",
     "shell.execute_reply.started": "2021-12-16T14:46:45.055066Z"
    },
    "tags": []
   },
   "outputs": [
    {
     "data": {
      "text/plain": [
       "torch.Size([256, 1, 28, 28])"
      ]
     },
     "execution_count": 15,
     "metadata": {},
     "output_type": "execute_result"
    }
   ],
   "source": [
    "x[0].shape"
   ]
  },
  {
   "cell_type": "code",
   "execution_count": 2,
   "id": "27167609-136f-4f44-963f-df1dee25fcbf",
   "metadata": {
    "execution": {
     "iopub.execute_input": "2022-03-15T14:32:21.170958Z",
     "iopub.status.busy": "2022-03-15T14:32:21.170652Z",
     "iopub.status.idle": "2022-03-15T14:32:21.217524Z",
     "shell.execute_reply": "2022-03-15T14:32:21.216835Z",
     "shell.execute_reply.started": "2022-03-15T14:32:21.170936Z"
    }
   },
   "outputs": [
    {
     "data": {
      "text/plain": [
       "torch.Size([32, 288])"
      ]
     },
     "execution_count": 2,
     "metadata": {},
     "output_type": "execute_result"
    }
   ],
   "source": [
    "input = torch.randn(32, 1, 5, 5)\n",
    "m = nn.Sequential(\n",
    "nn.Conv2d(1, 32, 5, 1, 1),\n",
    "     nn.Flatten()\n",
    " )\n",
    "output = m(input)\n",
    "output.size()"
   ]
  },
  {
   "cell_type": "code",
   "execution_count": 6,
   "id": "a312a20a-dad5-46ed-950e-9e77efe4cade",
   "metadata": {
    "execution": {
     "iopub.execute_input": "2022-03-15T14:33:55.286552Z",
     "iopub.status.busy": "2022-03-15T14:33:55.286361Z",
     "iopub.status.idle": "2022-03-15T14:33:55.290342Z",
     "shell.execute_reply": "2022-03-15T14:33:55.289641Z",
     "shell.execute_reply.started": "2022-03-15T14:33:55.286533Z"
    },
    "tags": []
   },
   "outputs": [
    {
     "data": {
      "text/plain": [
       "torch.Size([32, 1, 5, 5])"
      ]
     },
     "execution_count": 6,
     "metadata": {},
     "output_type": "execute_result"
    }
   ],
   "source": [
    "torch.rand()"
   ]
  },
  {
   "cell_type": "code",
   "execution_count": null,
   "id": "2746af08-bfad-46d2-a884-66e428c6b422",
   "metadata": {},
   "outputs": [],
   "source": []
  }
 ],
 "metadata": {
  "kernelspec": {
   "display_name": "Python 3 (ipykernel)",
   "language": "python",
   "name": "python3"
  },
  "language_info": {
   "codemirror_mode": {
    "name": "ipython",
    "version": 3
   },
   "file_extension": ".py",
   "mimetype": "text/x-python",
   "name": "python",
   "nbconvert_exporter": "python",
   "pygments_lexer": "ipython3",
   "version": "3.8.5"
  }
 },
 "nbformat": 4,
 "nbformat_minor": 5
}
