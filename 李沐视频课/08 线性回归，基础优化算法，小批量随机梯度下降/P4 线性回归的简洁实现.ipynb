{
 "cells": [
  {
   "cell_type": "code",
   "execution_count": 1,
   "metadata": {
    "execution": {
     "iopub.execute_input": "2021-11-04T13:24:14.110693Z",
     "iopub.status.busy": "2021-11-04T13:24:14.110379Z",
     "iopub.status.idle": "2021-11-04T13:24:15.588763Z",
     "shell.execute_reply": "2021-11-04T13:24:15.588143Z",
     "shell.execute_reply.started": "2021-11-04T13:24:14.110618Z"
    }
   },
   "outputs": [],
   "source": [
    "import numpy as np\n",
    "import torch\n",
    "from torch.utils import data\n",
    "from d2l import torch as d2l\n",
    "\n",
    "\n",
    "true_w = torch.tensor([2, -3.4])\n",
    "true_b = 4.2\n",
    "features, labels = d2l.synthetic_data(true_w, true_b, 1000)"
   ]
  },
  {
   "cell_type": "code",
   "execution_count": 2,
   "metadata": {
    "execution": {
     "iopub.execute_input": "2021-11-04T13:24:15.590207Z",
     "iopub.status.busy": "2021-11-04T13:24:15.589983Z",
     "iopub.status.idle": "2021-11-04T13:24:15.594654Z",
     "shell.execute_reply": "2021-11-04T13:24:15.593990Z",
     "shell.execute_reply.started": "2021-11-04T13:24:15.590184Z"
    }
   },
   "outputs": [],
   "source": [
    "def load_array(data_arrays, batch_size, is_train=True):  #@save\n",
    "    \"\"\"构造一个PyTorch数据迭代器。\"\"\"\n",
    "    dataset = data.TensorDataset(*data_arrays)\n",
    "    return data.DataLoader(dataset, batch_size, shuffle=is_train)\n",
    "\n",
    "batch_size = 10\n",
    "data_iter = load_array((features, labels), batch_size)"
   ]
  },
  {
   "cell_type": "markdown",
   "metadata": {},
   "source": [
    "# 使用框架预定义好的层"
   ]
  },
  {
   "cell_type": "code",
   "execution_count": 3,
   "metadata": {
    "execution": {
     "iopub.execute_input": "2021-11-04T13:24:15.826313Z",
     "iopub.status.busy": "2021-11-04T13:24:15.826047Z",
     "iopub.status.idle": "2021-11-04T13:24:15.830101Z",
     "shell.execute_reply": "2021-11-04T13:24:15.829476Z",
     "shell.execute_reply.started": "2021-11-04T13:24:15.826285Z"
    }
   },
   "outputs": [],
   "source": [
    "# `nn` 是神经网络的缩写\n",
    "from torch import nn\n",
    "\n",
    "net = nn.Sequential(nn.Linear(2, 1))"
   ]
  },
  {
   "cell_type": "markdown",
   "metadata": {},
   "source": [
    "# 初始化模型参数"
   ]
  },
  {
   "cell_type": "code",
   "execution_count": 4,
   "metadata": {
    "execution": {
     "iopub.execute_input": "2021-11-04T13:24:16.957621Z",
     "iopub.status.busy": "2021-11-04T13:24:16.957357Z",
     "iopub.status.idle": "2021-11-04T13:24:16.964967Z",
     "shell.execute_reply": "2021-11-04T13:24:16.964281Z",
     "shell.execute_reply.started": "2021-11-04T13:24:16.957594Z"
    }
   },
   "outputs": [
    {
     "data": {
      "text/plain": [
       "tensor([0.])"
      ]
     },
     "execution_count": 4,
     "metadata": {},
     "output_type": "execute_result"
    }
   ],
   "source": [
    "net[0].weight.data.normal_(0,0.01)\n",
    "net[0].bias.data.fill_(0)"
   ]
  },
  {
   "cell_type": "markdown",
   "metadata": {},
   "source": [
    "# 计算均方误差使用的是MSELoss类，也称为平方L2范数"
   ]
  },
  {
   "cell_type": "code",
   "execution_count": 5,
   "metadata": {
    "execution": {
     "iopub.execute_input": "2021-11-04T13:24:17.890173Z",
     "iopub.status.busy": "2021-11-04T13:24:17.889900Z",
     "iopub.status.idle": "2021-11-04T13:24:17.893500Z",
     "shell.execute_reply": "2021-11-04T13:24:17.892872Z",
     "shell.execute_reply.started": "2021-11-04T13:24:17.890145Z"
    }
   },
   "outputs": [],
   "source": [
    "loss = nn.MSELoss()"
   ]
  },
  {
   "cell_type": "markdown",
   "metadata": {},
   "source": [
    "# 实例化SGD实例"
   ]
  },
  {
   "cell_type": "code",
   "execution_count": 6,
   "metadata": {
    "execution": {
     "iopub.execute_input": "2021-11-04T13:24:18.598597Z",
     "iopub.status.busy": "2021-11-04T13:24:18.598339Z",
     "iopub.status.idle": "2021-11-04T13:24:18.602012Z",
     "shell.execute_reply": "2021-11-04T13:24:18.601338Z",
     "shell.execute_reply.started": "2021-11-04T13:24:18.598570Z"
    },
    "tags": []
   },
   "outputs": [],
   "source": [
    "trainer = torch.optim.SGD(net.parameters(),lr=0.03)"
   ]
  },
  {
   "cell_type": "code",
   "execution_count": 7,
   "metadata": {
    "execution": {
     "iopub.execute_input": "2021-11-04T13:24:19.044215Z",
     "iopub.status.busy": "2021-11-04T13:24:19.043959Z",
     "iopub.status.idle": "2021-11-04T13:24:19.140212Z",
     "shell.execute_reply": "2021-11-04T13:24:19.139611Z",
     "shell.execute_reply.started": "2021-11-04T13:24:19.044188Z"
    },
    "tags": []
   },
   "outputs": [
    {
     "name": "stdout",
     "output_type": "stream",
     "text": [
      "epoch 1, loss 0.000104\n",
      "epoch 2, loss 0.000104\n",
      "epoch 3, loss 0.000104\n",
      "epoch 4, loss 0.000104\n",
      "epoch 5, loss 0.000104\n",
      "epoch 6, loss 0.000104\n",
      "epoch 7, loss 0.000104\n",
      "epoch 8, loss 0.000104\n",
      "epoch 9, loss 0.000104\n",
      "epoch 10, loss 0.000104\n"
     ]
    }
   ],
   "source": [
    "num_epochs = 3\n",
    "for epoch in range(num_epochs):\n",
    "    for X,y in data_iter:\n",
    "        l = loss(net(X),y)\n",
    "        trainer.zero_grad()\n",
    "        l.backward()\n",
    "        trainer.step()\n",
    "    l = loss(net(features),labels)\n",
    "    print(f'epoch {epoch + 1}, loss {l:f}')"
   ]
  },
  {
   "cell_type": "code",
   "execution_count": 29,
   "metadata": {
    "execution": {
     "iopub.execute_input": "2021-11-04T13:26:23.854030Z",
     "iopub.status.busy": "2021-11-04T13:26:23.853772Z",
     "iopub.status.idle": "2021-11-04T13:26:23.859039Z",
     "shell.execute_reply": "2021-11-04T13:26:23.858442Z",
     "shell.execute_reply.started": "2021-11-04T13:26:23.854003Z"
    },
    "tags": []
   },
   "outputs": [
    {
     "name": "stdout",
     "output_type": "stream",
     "text": [
      "Parameter containing:\n",
      "tensor([[ 1.9997, -3.4004]], requires_grad=True)\n",
      "Parameter containing:\n",
      "tensor([4.1998], requires_grad=True)\n"
     ]
    }
   ],
   "source": [
    "for x in net.parameters():\n",
    "    print(x)"
   ]
  },
  {
   "cell_type": "code",
   "execution_count": 35,
   "metadata": {
    "execution": {
     "iopub.execute_input": "2021-11-04T13:28:04.579898Z",
     "iopub.status.busy": "2021-11-04T13:28:04.579625Z",
     "iopub.status.idle": "2021-11-04T13:28:04.585055Z",
     "shell.execute_reply": "2021-11-04T13:28:04.584344Z",
     "shell.execute_reply.started": "2021-11-04T13:28:04.579871Z"
    },
    "tags": []
   },
   "outputs": [
    {
     "data": {
      "text/plain": [
       "tensor([4.1998])"
      ]
     },
     "execution_count": 35,
     "metadata": {},
     "output_type": "execute_result"
    }
   ],
   "source": [
    "net[0].weight\n",
    "net[0].bias.data"
   ]
  },
  {
   "cell_type": "code",
   "execution_count": null,
   "metadata": {},
   "outputs": [],
   "source": []
  }
 ],
 "metadata": {
  "kernelspec": {
   "display_name": "Python 3 (ipykernel)",
   "language": "python",
   "name": "python3"
  },
  "language_info": {
   "codemirror_mode": {
    "name": "ipython",
    "version": 3
   },
   "file_extension": ".py",
   "mimetype": "text/x-python",
   "name": "python",
   "nbconvert_exporter": "python",
   "pygments_lexer": "ipython3",
   "version": "3.8.5"
  },
  "toc": {
   "base_numbering": 1,
   "nav_menu": {},
   "number_sections": true,
   "sideBar": true,
   "skip_h1_title": false,
   "title_cell": "Table of Contents",
   "title_sidebar": "Contents",
   "toc_cell": false,
   "toc_position": {},
   "toc_section_display": true,
   "toc_window_display": false
  }
 },
 "nbformat": 4,
 "nbformat_minor": 4
}
