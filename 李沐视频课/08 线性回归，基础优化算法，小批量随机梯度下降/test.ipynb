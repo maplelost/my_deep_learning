{
 "cells": [
  {
   "cell_type": "code",
   "execution_count": 1,
   "id": "191a537e-8d28-4134-9301-3b89295afa95",
   "metadata": {
    "tags": []
   },
   "outputs": [],
   "source": [
    "%matplotlib inline\n",
    "import random,torch\n",
    "from torch.utils import data\n",
    "from d2l import torch  as d2l"
   ]
  },
  {
   "cell_type": "code",
   "execution_count": 8,
   "id": "4587233b-a353-40a5-bd8a-c6c36a4af94c",
   "metadata": {
    "tags": []
   },
   "outputs": [
    {
     "data": {
      "text/plain": "torch.Size([1000, 1])"
     },
     "execution_count": 8,
     "metadata": {},
     "output_type": "execute_result"
    }
   ],
   "source": [
    "true_w = torch.tensor([2.3,6])\n",
    "true_b = 7\n",
    "\n",
    "# features, labels = d2l.synthetic_data(true_w, true_b, 1000)\n",
    "labels.shape"
   ]
  },
  {
   "cell_type": "code",
   "execution_count": 260,
   "id": "4bf557ba-c9cd-4934-b4e8-db54f72b2457",
   "metadata": {
    "execution": {
     "iopub.execute_input": "2021-11-05T01:53:14.335547Z",
     "iopub.status.busy": "2021-11-05T01:53:14.335269Z",
     "iopub.status.idle": "2021-11-05T01:53:14.346461Z",
     "shell.execute_reply": "2021-11-05T01:53:14.345815Z",
     "shell.execute_reply.started": "2021-11-05T01:53:14.335521Z"
    },
    "tags": []
   },
   "outputs": [],
   "source": [
    "batch_size = 10\n",
    "\n",
    "def load_array(data_array, batch_size, is_train=True):\n",
    "    dataset = data.TensorDataset(*data_array)\n",
    "    return data.DataLoader(dataset,batch_size, shuffle=is_train)\n",
    "    \n",
    "data_iter = load_array((features,labels),batch_size)"
   ]
  },
  {
   "cell_type": "code",
   "execution_count": 261,
   "id": "7902f21d-2cdc-4b65-8226-76a23c29a63b",
   "metadata": {
    "execution": {
     "iopub.execute_input": "2021-11-05T01:53:14.834674Z",
     "iopub.status.busy": "2021-11-05T01:53:14.834406Z",
     "iopub.status.idle": "2021-11-05T01:53:14.858066Z",
     "shell.execute_reply": "2021-11-05T01:53:14.857382Z",
     "shell.execute_reply.started": "2021-11-05T01:53:14.834647Z"
    },
    "tags": []
   },
   "outputs": [],
   "source": [
    "from torch import nn\n",
    "\n",
    "net = nn.Sequential(nn.Linear(2,1))\n",
    "net[0].weight.data.normal_(1,1)\n",
    "net[0].bias.data.fill_(0)\n",
    "loss = nn.MSELoss()\n",
    "trainer = torch.optim.SGD(net.parameters(),lr=0.001)"
   ]
  },
  {
   "cell_type": "code",
   "execution_count": 264,
   "id": "b0e9f670-4399-4604-b929-b155de6e9f51",
   "metadata": {
    "execution": {
     "iopub.execute_input": "2021-11-05T01:53:23.381888Z",
     "iopub.status.busy": "2021-11-05T01:53:23.381634Z",
     "iopub.status.idle": "2021-11-05T01:53:23.660326Z",
     "shell.execute_reply": "2021-11-05T01:53:23.659777Z",
     "shell.execute_reply.started": "2021-11-05T01:53:23.381862Z"
    },
    "tags": []
   },
   "outputs": [
    {
     "name": "stdout",
     "output_type": "stream",
     "text": [
      "epoch 1, loss 0.024956\n",
      "epoch 2, loss 0.016945\n",
      "epoch 3, loss 0.011520\n",
      "epoch 4, loss 0.007846\n",
      "epoch 5, loss 0.005357\n",
      "epoch 6, loss 0.003669\n",
      "epoch 7, loss 0.002524\n",
      "epoch 8, loss 0.001748\n",
      "epoch 9, loss 0.001221\n",
      "epoch 10, loss 0.000864\n"
     ]
    }
   ],
   "source": [
    "epochs = 10\n",
    "for epoch in range(epochs):\n",
    "    for X, y in data_iter:\n",
    "        l = loss(net(X),y)\n",
    "        trainer.zero_grad()\n",
    "        l.backward()\n",
    "        trainer.step()\n",
    "    l = loss(net(features),labels)\n",
    "    print(f'epoch {epoch + 1}, loss {l:f}')"
   ]
  },
  {
   "cell_type": "code",
   "execution_count": 158,
   "id": "3731dfae-fa73-48ba-b4fe-bec936848930",
   "metadata": {
    "execution": {
     "iopub.execute_input": "2021-11-04T14:36:36.416689Z",
     "iopub.status.busy": "2021-11-04T14:36:36.416430Z",
     "iopub.status.idle": "2021-11-04T14:36:36.421981Z",
     "shell.execute_reply": "2021-11-04T14:36:36.421246Z",
     "shell.execute_reply.started": "2021-11-04T14:36:36.416663Z"
    },
    "tags": []
   },
   "outputs": [
    {
     "name": "stdout",
     "output_type": "stream",
     "text": [
      "Parameter containing:\n",
      "tensor([[2.0529, 5.3845]], requires_grad=True)\n",
      "Parameter containing:\n",
      "tensor([6.1000], requires_grad=True)\n"
     ]
    }
   ],
   "source": [
    "for x in net.parameters():\n",
    "    print(x)"
   ]
  },
  {
   "cell_type": "code",
   "execution_count": null,
   "id": "5d2731cc-e80d-4fdc-86d5-fd162c4be24d",
   "metadata": {
    "tags": []
   },
   "outputs": [],
   "source": []
  },
  {
   "cell_type": "code",
   "execution_count": null,
   "id": "3bd62bc6-1c70-4a44-bd6b-2a5c749511a3",
   "metadata": {},
   "outputs": [],
   "source": []
  }
 ],
 "metadata": {
  "kernelspec": {
   "display_name": "Python 3 (ipykernel)",
   "language": "python",
   "name": "python3"
  },
  "language_info": {
   "codemirror_mode": {
    "name": "ipython",
    "version": 3
   },
   "file_extension": ".py",
   "mimetype": "text/x-python",
   "name": "python",
   "nbconvert_exporter": "python",
   "pygments_lexer": "ipython3",
   "version": "3.9.7"
  }
 },
 "nbformat": 4,
 "nbformat_minor": 5
}
