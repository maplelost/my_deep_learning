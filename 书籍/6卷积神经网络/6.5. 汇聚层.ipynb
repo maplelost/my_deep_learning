{
 "cells": [
  {
   "cell_type": "code",
   "execution_count": 30,
   "outputs": [
    {
     "data": {
      "text/plain": "(torch.Size([3, 4, 4]), torch.Size([1, 2, 2]))"
     },
     "execution_count": 30,
     "metadata": {},
     "output_type": "execute_result"
    }
   ],
   "source": [
    "import torch\n",
    "from torch import nn\n",
    "\n",
    "X = torch.normal(0, 1, (3,4,4))\n",
    "# K = torch.normal(0, 1, (3,2,1))\n",
    "# corr2d_multi_in(X,K).shape\n",
    "# X.shape,K.shape\n",
    "# corr2d_multi_in(X,K).shape\n",
    "net = nn.Conv2d(3, 1, kernel_size=3)\n",
    "X.shape,net(X).shape"
   ],
   "metadata": {
    "collapsed": false,
    "pycharm": {
     "name": "#%%\n"
    }
   }
  },
  {
   "cell_type": "code",
   "execution_count": 66,
   "outputs": [
    {
     "data": {
      "text/plain": "(torch.Size([9, 3, 4, 4]), torch.Size([9, 3, 2, 2]))"
     },
     "execution_count": 66,
     "metadata": {},
     "output_type": "execute_result"
    }
   ],
   "source": [
    "X = torch.randint(1, 6, (9,3,4,4),dtype=torch.float32)\n",
    "\n",
    "pool2d = nn.MaxPool2d(3,stride=1)\n",
    "X.shape,pool2d(X).shape\n",
    "# X,pool2d(X)"
   ],
   "metadata": {
    "collapsed": false,
    "pycharm": {
     "name": "#%%\n"
    }
   }
  },
  {
   "cell_type": "code",
   "execution_count": 52,
   "outputs": [
    {
     "data": {
      "text/plain": "MaxPool2d(kernel_size=2, stride=2, padding=0, dilation=1, ceil_mode=False)"
     },
     "execution_count": 52,
     "metadata": {},
     "output_type": "execute_result"
    }
   ],
   "source": [
    "X = torch.tensor([[[0.0, 1.0, 2.0], [3.0, 4.0, 5.0], [6.0, 7.0, 8.0]]])\n",
    "pool2d = nn.MaxPool2d(2)\n",
    "pool2d"
   ],
   "metadata": {
    "collapsed": false,
    "pycharm": {
     "name": "#%%\n"
    }
   }
  }
 ],
 "metadata": {
  "kernelspec": {
   "display_name": "Python 3",
   "language": "python",
   "name": "python3"
  },
  "language_info": {
   "codemirror_mode": {
    "name": "ipython",
    "version": 2
   },
   "file_extension": ".py",
   "mimetype": "text/x-python",
   "name": "python",
   "nbconvert_exporter": "python",
   "pygments_lexer": "ipython2",
   "version": "2.7.6"
  }
 },
 "nbformat": 4,
 "nbformat_minor": 0
}