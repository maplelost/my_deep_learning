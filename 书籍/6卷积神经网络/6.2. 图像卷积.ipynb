{
 "cells": [
  {
   "cell_type": "code",
   "execution_count": 131,
   "outputs": [],
   "source": [
    "import torch\n",
    "from torch import nn\n",
    "from d2l import torch as d2l\n",
    "\n",
    "def corr2d(X, K):  #@save\n",
    "    \"\"\"计算二维互相关运算\"\"\"\n",
    "    h, w = K.shape\n",
    "    Y = torch.zeros((X.shape[0] - h + 1, X.shape[1] - w + 1))\n",
    "    for i in range(Y.shape[0]):\n",
    "        for j in range(Y.shape[1]):\n",
    "            Y[i, j] = (X[i:i + h, j:j + w] * K).sum()\n",
    "    return Y"
   ],
   "metadata": {
    "collapsed": false,
    "pycharm": {
     "name": "#%%\n"
    }
   }
  },
  {
   "cell_type": "code",
   "execution_count": 132,
   "outputs": [
    {
     "data": {
      "text/plain": "tensor([[19., 25.],\n        [37., 43.]])"
     },
     "execution_count": 132,
     "metadata": {},
     "output_type": "execute_result"
    }
   ],
   "source": [
    "X = torch.tensor([[0.0, 1.0, 2.0], [3.0, 4.0, 5.0], [6.0, 7.0, 8.0]])\n",
    "K = torch.tensor([[0.0, 1.0], [2.0, 3.0]])\n",
    "corr2d(X, K)"
   ],
   "metadata": {
    "collapsed": false,
    "pycharm": {
     "name": "#%%\n"
    }
   }
  },
  {
   "cell_type": "code",
   "execution_count": 133,
   "outputs": [],
   "source": [
    "class Conv2D(nn.Module):\n",
    "    def __init__(self, kernel_size):\n",
    "        super().__init__()\n",
    "        self.weight = nn.Parameter(torch.rand(kernel_size))\n",
    "        self.bias = nn.Parameter(torch.zeros(1))\n",
    "\n",
    "    def forward(self, x):\n",
    "        return corr2d(x, self.weight) + self.bias"
   ],
   "metadata": {
    "collapsed": false,
    "pycharm": {
     "name": "#%%\n"
    }
   }
  },
  {
   "cell_type": "code",
   "execution_count": 276,
   "outputs": [
    {
     "data": {
      "text/plain": "(tensor([[1., 1., 1., 0., 1., 1., 1., 1.],\n         [1., 1., 1., 0., 1., 1., 1., 1.],\n         [1., 1., 1., 0., 1., 1., 1., 1.],\n         [1., 1., 1., 0., 1., 1., 1., 1.],\n         [1., 1., 1., 0., 1., 1., 1., 1.],\n         [1., 1., 1., 0., 1., 1., 1., 1.]]),\n tensor([[ 0.,  0., -1.,  1.,  0.,  0.,  0.],\n         [ 0.,  0., -1.,  1.,  0.,  0.,  0.],\n         [ 0.,  0., -1.,  1.,  0.,  0.,  0.],\n         [ 0.,  0., -1.,  1.,  0.,  0.,  0.],\n         [ 0.,  0., -1.,  1.,  0.,  0.,  0.],\n         [ 0.,  0., -1.,  1.,  0.,  0.,  0.]]))"
     },
     "execution_count": 276,
     "metadata": {},
     "output_type": "execute_result"
    }
   ],
   "source": [
    "X = torch.ones(6,8)\n",
    "K = torch.tensor([[-1.0, 1.0]])\n",
    "X[:,3] = 0\n",
    "\n",
    "Y = corr2d(X, K)\n",
    "X,Y #corr2d(X.T,K) # 说明卷积核能提取垂直特征，无法提取水平特征"
   ],
   "metadata": {
    "collapsed": false,
    "pycharm": {
     "name": "#%%\n"
    }
   }
  },
  {
   "cell_type": "code",
   "execution_count": 277,
   "outputs": [
    {
     "name": "stdout",
     "output_type": "stream",
     "text": [
      "epoch 2, loss 336.724\n",
      "epoch 4, loss 25413.824\n",
      "epoch 6, loss 1950835.000\n",
      "epoch 8, loss 149757072.000\n",
      "epoch 10, loss 11496190976.000\n",
      "epoch 12, loss 882512101376.000\n"
     ]
    }
   ],
   "source": [
    "# 构造一个二维卷积层，它具有1个输出通道和形状为（1，2）的卷积核\n",
    "net = nn.Conv2d(1,1, kernel_size=(1, 2), bias=False)\n",
    "\n",
    "# 这个二维卷积层使用四维输入和输出格式（批量大小、通道、高度、宽度），\n",
    "# 其中批量大小和通道数都为1\n",
    "X = X.reshape((1, 1, 6, 8))\n",
    "Y = Y.reshape((1, 1, 6, 7))\n",
    "lr = 3e-2  # 学习率\n",
    "\n",
    "for i in range(13):\n",
    "    Y_hat = net(X)\n",
    "    l = (Y_hat - Y) ** 2\n",
    "    net.zero_grad()\n",
    "    l.sum().backward()\n",
    "    # 迭代卷积核\n",
    "    net.weight.data[:] -= lr * net.weight.grad\n",
    "    if (i + 1) % 2 == 0:\n",
    "        print(f'epoch {i+1}, loss {l.sum():.3f}')"
   ],
   "metadata": {
    "collapsed": false,
    "pycharm": {
     "name": "#%%\n"
    }
   }
  },
  {
   "cell_type": "code",
   "execution_count": 261,
   "outputs": [
    {
     "data": {
      "text/plain": "(torch.Size([1, 1, 3, 2]), torch.Size([1, 2, 1, 2]), torch.Size([1, 3, 1, 2]))"
     },
     "execution_count": 261,
     "metadata": {},
     "output_type": "execute_result"
    }
   ],
   "source": [
    "nn.Conv2d(1,1, kernel_size=(3, 2), bias=False).weight.shape,nn.Conv2d(2,1, kernel_size=(1, 2), bias=False).weight.shape,nn.Conv2d(3,1, kernel_size=(1, 2), bias=False).weight.shape"
   ],
   "metadata": {
    "collapsed": false,
    "pycharm": {
     "name": "#%%\n"
    }
   }
  },
  {
   "cell_type": "code",
   "execution_count": 272,
   "outputs": [
    {
     "data": {
      "text/plain": "tensor([[[[-0.0332, -0.0139,  0.0000,  0.0000,  0.0000, -0.0193, -0.0332],\n          [-0.0332, -0.0139,  0.0000,  0.0000,  0.0000, -0.0193, -0.0332],\n          [-0.0332, -0.0139,  0.0000,  0.0000,  0.0000, -0.0193, -0.0332],\n          [-0.0332, -0.0139,  0.0000,  0.0000,  0.0000, -0.0193, -0.0332],\n          [-0.0332, -0.0139,  0.0000,  0.0000,  0.0000, -0.0193, -0.0332],\n          [-0.0332, -0.0139,  0.0000,  0.0000,  0.0000, -0.0193, -0.0332]]]],\n       grad_fn=<SubBackward0>)"
     },
     "execution_count": 272,
     "metadata": {},
     "output_type": "execute_result"
    }
   ],
   "source": [
    "net(X) - Y"
   ],
   "metadata": {
    "collapsed": false,
    "pycharm": {
     "name": "#%%\n"
    }
   }
  },
  {
   "cell_type": "code",
   "execution_count": null,
   "outputs": [],
   "source": [],
   "metadata": {
    "collapsed": false,
    "pycharm": {
     "name": "#%%\n"
    }
   }
  }
 ],
 "metadata": {
  "kernelspec": {
   "display_name": "Python 3",
   "language": "python",
   "name": "python3"
  },
  "language_info": {
   "codemirror_mode": {
    "name": "ipython",
    "version": 2
   },
   "file_extension": ".py",
   "mimetype": "text/x-python",
   "name": "python",
   "nbconvert_exporter": "python",
   "pygments_lexer": "ipython2",
   "version": "2.7.6"
  }
 },
 "nbformat": 4,
 "nbformat_minor": 0
}